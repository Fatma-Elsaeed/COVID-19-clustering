{
 "cells": [
  {
   "cell_type": "code",
   "execution_count": 1,
   "metadata": {},
   "outputs": [],
   "source": [
    "from pyspark.sql import SparkSession\n",
    "from pyspark.sql.functions import isnan, when, count, col\n",
    "from pyspark.sql.functions import lower, regexp_replace\n",
    "from pyspark.ml.feature import Tokenizer, StopWordsRemover\n",
    "from pyspark.ml.feature import Word2Vec\n",
    "from pyspark.ml.feature import StringIndexer\n",
    "from pyspark.ml.feature import OneHotEncoder\n"
   ]
  },
  {
   "cell_type": "code",
   "execution_count": 2,
   "metadata": {},
   "outputs": [],
   "source": [
    "spark = SparkSession \\\n",
    "    .builder \\\n",
    "    .appName('Project4') \\\n",
    "    .getOrCreate()"
   ]
  },
  {
   "cell_type": "code",
   "execution_count": 3,
   "metadata": {},
   "outputs": [],
   "source": [
    "meta_data = spark.read\\\n",
    "            .format(\"csv\")\\\n",
    "            .option(\"header\", \"true\")\\\n",
    "            .load(\"/home/bitnami/Projects/Project4/metadata.csv\")"
   ]
  },
  {
   "cell_type": "code",
   "execution_count": 4,
   "metadata": {},
   "outputs": [],
   "source": [
    "covid_papers = spark.read\\\n",
    "            .format(\"json\")\\\n",
    "            .option(\"multiLine\", \"true\")\\\n",
    "            .load(\"/home/bitnami/Projects/Project4/pdf_json/\")"
   ]
  },
  {
   "cell_type": "code",
   "execution_count": 5,
   "metadata": {},
   "outputs": [
    {
     "name": "stdout",
     "output_type": "stream",
     "text": [
      "+--------+--------------------+--------+--------------------+--------------------+---------+---------+---------+--------------------+------------+--------------------+--------------------+------+----------------+--------+--------------------+--------------------+--------------------+-----+\n",
      "|cord_uid|                 sha|source_x|               title|                 doi|    pmcid|pubmed_id|  license|            abstract|publish_time|             authors|             journal|mag_id|who_covidence_id|arxiv_id|      pdf_json_files|      pmc_json_files|                 url|s2_id|\n",
      "+--------+--------------------+--------+--------------------+--------------------+---------+---------+---------+--------------------+------------+--------------------+--------------------+------+----------------+--------+--------------------+--------------------+--------------------+-----+\n",
      "|ug7v899j|d1aafb70c066a2068...|     PMC|Clinical features...|10.1186/1471-2334...| PMC35282| 11472636|    no-cc|OBJECTIVE: This r...|  2001-07-04|Madani, Tariq A; ...|      BMC Infect Dis|  null|            null|    null|document_parses/p...|document_parses/p...|https://www.ncbi....| null|\n",
      "|02tnwd4m|6b0567729c2143a66...|     PMC|Nitric oxide: a p...|        10.1186/rr14| PMC59543| 11667967|    no-cc|Inflammatory dise...|  2000-08-15|Vliet, Albert van...|          Respir Res|  null|            null|    null|document_parses/p...|document_parses/p...|https://www.ncbi....| null|\n",
      "|ejv2xln0|06ced00a5fc042159...|     PMC|Surfactant protei...|        10.1186/rr19| PMC59549| 11667972|    no-cc|Surfactant protei...|  2000-08-25|     Crouch, Erika C|          Respir Res|  null|            null|    null|document_parses/p...|document_parses/p...|https://www.ncbi....| null|\n",
      "|2b73a28n|348055649b6b8cf2b...|     PMC|Role of endotheli...|        10.1186/rr44| PMC59574| 11686871|    no-cc|Endothelin-1 (ET-...|  2001-02-22|Fagan, Karen A; M...|          Respir Res|  null|            null|    null|document_parses/p...|document_parses/p...|https://www.ncbi....| null|\n",
      "|9785vg6d|5f48792a5fa08bed9...|     PMC|Gene expression i...|        10.1186/rr61| PMC59580| 11686888|    no-cc|Respiratory syncy...|  2001-05-11|Domachowske, Jose...|          Respir Res|  null|            null|    null|document_parses/p...|document_parses/p...|https://www.ncbi....| null|\n",
      "|zjufx4fo|b2897e1277f566411...|     PMC|Sequence requirem...|10.1093/emboj/20....|PMC125340| 11742998| green-oa|Nidovirus subgeno...|  2001-12-17|Pasternak, Alexan...|    The EMBO Journal|  null|            null|    null|document_parses/p...|document_parses/p...|http://europepmc....| null|\n",
      "|5yhe786e|3bb07ea10432f7738...|     PMC|Debate: Transfusi...|       10.1186/cc987|PMC137267| 11299062|    no-cc|Recent evidence s...|  2001-03-08|Alvarez, Gonzalo;...|           Crit Care|  null|            null|    null|document_parses/p...|document_parses/p...|https://www.ncbi....| null|\n",
      "|8zchiykl|5806726a24dc91de3...|     PMC|The 21st Internat...|      10.1186/cc1013|PMC137274| 11353930|    no-cc|The 21st Internat...|  2001-05-02|Ball, Jonathan; V...|           Crit Care|  null|            null|    null|document_parses/p...|document_parses/p...|https://www.ncbi....| null|\n",
      "|8qnrcgnk|faaf1022ccfe93b03...|     PMC|Heme oxygenase-1 ...|10.1186/1465-9921...|PMC193681| 12964953|    no-cc|Heme oxygenase-1 ...|  2003-08-07|Slebos, Dirk-Jan;...|          Respir Res|  null|            null|    null|document_parses/p...|document_parses/p...|https://www.ncbi....| null|\n",
      "|jg13scgo|5b44feca5d6ffaaeb...|     PMC|Technical Descrip...| 10.1197/jamia.m1345|PMC212776| 12807803|bronze-oa|This report descr...|  2003-09-01|Tsui, Fu-Chiang; ...|Journal of the Am...|  null|            null|    null|document_parses/p...|document_parses/p...|https://academic....| null|\n",
      "|5tkvsudh|9d4e3e8eb092d5ed2...|     PMC|Conservation of p...|10.1093/emboj/19....|PMC302018| 10775274|    no-cc|Regulation of orn...|  2000-04-17|Ivanov, Ivaylo P....|              EMBO J|  null|            null|    null|document_parses/p...|document_parses/p...|https://www.ncbi....| null|\n",
      "|6lvn10f4|14e0cac6e86d62859...|     PMC|Heterogeneous nuc...|10.1093/emboj/19....|PMC302072| 10970862| green-oa|Heterogeneous nuc...|  2000-09-01|Shi, Stephanie T....|    The EMBO Journal|  null|            null|    null|document_parses/p...|document_parses/p...|http://europepmc....| null|\n",
      "|tvxpckxo|d09b79026117ec9fa...|     PMC|A Method to Ident...|       10.1251/bpo66|PMC302190| 14702098|    no-cc|The UBA domain is...|  2003-12-12|Pridgeon, Julia W...|  Biol Proced Online|  null|            null|    null|document_parses/p...|document_parses/p...|https://www.ncbi....| null|\n",
      "|mcuixluu|44102e3e69e70ad2a...|     PMC|Vaccinia virus in...|10.1093/emboj/19....|PMC306617| 10921875| green-oa|We examined the r...|  2000-08-01|Ploubidou, Aspasi...|    The EMBO Journal|  null|            null|    null|document_parses/p...|document_parses/p...|http://europepmc....| null|\n",
      "|6iu1dtyl|6e8517cb25ff228cb...|     PMC|The site of origi...|10.1186/1479-5876...|PMC340389| 14733617|    no-cc|                null|  2004-01-20|       Barry, John M|        J Transl Med|  null|            null|    null|document_parses/p...|document_parses/p...|https://www.ncbi....| null|\n",
      "|t35n7bk9|30a4842a2e257f725...|     PMC|Multi-faceted, mu...|10.1186/1742-4690...|PMC420498| 15169556|    no-cc|There are hundred...|  2004-05-26|Shieh, Biehuoy; L...|       Retrovirology|  null|            null|    null|document_parses/p...|document_parses/p...|https://www.ncbi....| null|\n",
      "|eiqypt0m|6a8ac55ea2a1fbd99...|     PMC|Herpes simplex vi...|      10.1186/cc2850|PMC468896| 15153242|    no-cc|INTRODUCTION: The...|  2004-03-31|Verheij, Joanne; ...|           Crit Care|  null|            null|    null|document_parses/p...|document_parses/p...|https://www.ncbi....| null|\n",
      "|sgmk96vr|367af6bb9a8bbda02...|     PMC|Logistics of comm...|10.1186/1471-2458...|PMC520756| 15298713|    cc-by|BACKGROUND: Previ...|  2004-08-06|Porco, Travis C; ...|   BMC Public Health|  null|            null|    null|document_parses/p...|document_parses/p...|https://www.ncbi....| null|\n",
      "|di0fcy0j|4df2c6eecb985fcb2...|     PMC|Protection of pul...|10.1186/1465-9921...|PMC521691| 15450125|    cc-by|BACKGROUND: Oxyge...|  2004-09-27|Kremer, Ted M; Ri...|          Respir Res|  null|            null|    null|document_parses/p...|document_parses/p...|https://www.ncbi....| null|\n",
      "|4k8f7ou1|83b05e8afa6cbe7a6...|     PMC|Bioinformatic map...|10.1186/1471-2164...|PMC544882| 15627404|    cc-by|BACKGROUND: AlkB-...|  2005-01-03|Bratlie, Marit S;...|        BMC Genomics|  null|            null|    null|document_parses/p...|document_parses/p...|https://www.ncbi....| null|\n",
      "+--------+--------------------+--------+--------------------+--------------------+---------+---------+---------+--------------------+------------+--------------------+--------------------+------+----------------+--------+--------------------+--------------------+--------------------+-----+\n",
      "only showing top 20 rows\n",
      "\n"
     ]
    }
   ],
   "source": [
    "meta_data.show()"
   ]
  },
  {
   "cell_type": "code",
   "execution_count": 6,
   "metadata": {},
   "outputs": [
    {
     "name": "stdout",
     "output_type": "stream",
     "text": [
      "root\n",
      " |-- cord_uid: string (nullable = true)\n",
      " |-- sha: string (nullable = true)\n",
      " |-- source_x: string (nullable = true)\n",
      " |-- title: string (nullable = true)\n",
      " |-- doi: string (nullable = true)\n",
      " |-- pmcid: string (nullable = true)\n",
      " |-- pubmed_id: string (nullable = true)\n",
      " |-- license: string (nullable = true)\n",
      " |-- abstract: string (nullable = true)\n",
      " |-- publish_time: string (nullable = true)\n",
      " |-- authors: string (nullable = true)\n",
      " |-- journal: string (nullable = true)\n",
      " |-- mag_id: string (nullable = true)\n",
      " |-- who_covidence_id: string (nullable = true)\n",
      " |-- arxiv_id: string (nullable = true)\n",
      " |-- pdf_json_files: string (nullable = true)\n",
      " |-- pmc_json_files: string (nullable = true)\n",
      " |-- url: string (nullable = true)\n",
      " |-- s2_id: string (nullable = true)\n",
      "\n"
     ]
    }
   ],
   "source": [
    "meta_data.printSchema()"
   ]
  },
  {
   "cell_type": "code",
   "execution_count": 7,
   "metadata": {},
   "outputs": [
    {
     "name": "stdout",
     "output_type": "stream",
     "text": [
      "+--------+------+--------+-----+------+------+---------+-------+--------+------------+-------+-------+------+----------------+--------+--------------+--------------+------+-----+\n",
      "|cord_uid|   sha|source_x|title|   doi| pmcid|pubmed_id|license|abstract|publish_time|authors|journal|mag_id|who_covidence_id|arxiv_id|pdf_json_files|pmc_json_files|   url|s2_id|\n",
      "+--------+------+--------+-----+------+------+---------+-------+--------+------------+-------+-------+------+----------------+--------+--------------+--------------+------+-----+\n",
      "|       0|399672|       0|  302|277692|389860|   323028|    661|  160110|         621|  15698|  37692|583915|          337996|  578827|        388907|        427246|252432|59359|\n",
      "+--------+------+--------+-----+------+------+---------+-------+--------+------------+-------+-------+------+----------------+--------+--------------+--------------+------+-----+\n",
      "\n"
     ]
    }
   ],
   "source": [
    "# counting nans \n",
    "meta_data.select([count(when(isnan(column) | col(column).isNull(), column)).alias(column) for column  in meta_data.columns]).show()"
   ]
  },
  {
   "cell_type": "code",
   "execution_count": 8,
   "metadata": {},
   "outputs": [
    {
     "name": "stdout",
     "output_type": "stream",
     "text": [
      "+--------------------+--------------------+--------------------+--------------------+--------------------+--------------------+--------------------+\n",
      "|            abstract|         back_matter|         bib_entries|           body_text|            metadata|            paper_id|         ref_entries|\n",
      "+--------------------+--------------------+--------------------+--------------------+--------------------+--------------------+--------------------+\n",
      "|                  []|                  []|[[[[D, Antonson, ...|[[[], [], INTRODU...|              [[], ]|ff78ee43150a59344...|[[, Decrease or e...|\n",
      "|[[[], [], Abstrac...|[[[[23, BIBREF267...|[[[[F, Abad, [X],...|[[[], [], SUMMARY...|[[[[European Food...|ff60baae582612fbf...|[[, Number of not...|\n",
      "|[[[], [], Abstrac...|[[[], [], Acknowl...|[[[], , [,], , b0...|[[[[250, BIBREF0,...|[[[[Boston Univer...|ffec12aa4a9fd44c1...|[[, Development o...|\n",
      "|[[[], [], Abstrac...|                  []|[[[[N, Hooper, [M...|[[[], [], Introdu...|[[[[Wrocław Unive...|ffdf3927a517dbdb2...|[[, Selected phos...|\n",
      "|                  []|                  []|[[[[K, Jones, [E]...|[[[[174, BIBREF49...|[[[[,,], , Rima, ...|ffae196fecc4da7f1...|[[, Outbreak of R...|\n",
      "|[[[[1346, BIBREF1...|[[[], [], Acknowl...|[[[[K, Able, [P],...|[[[[437, BIBREF23...|[[[[,,], , Meliss...|ff6e7c70571d00234...|[[, SICB's Divisi...|\n",
      "|                  []|                  []|[[[[E, Castagnola...|[[[], [], , • Neu...|[[[[,,], , Elio, ...|fff4688e7755c8ec7...|[[, Etiology of b...|\n",
      "|                  []|[[[], [[70,, 69, ...|[[[[A, Cavalli, [...|[[[[167, BIBREF10...|[[[[,,], , Pranav...|ffc93dea5a5f4e6e6...|[[, Fig. 1., figu...|\n",
      "|[[[], [], Abstrac...|                  []|[[[[R, Adalbert, ...|[[[[175, BIBREF3,...|[[[[,,], , Interl...|ff6c0b549e3f20ec7...|[[, Diffusion met...|\n",
      "|[[[], [], Abstrac...|[[[[8,, 1, Kilham...|[[[[D, Aderka, []...|[[[[570,, 559, Se...|[[[[Institut Arma...|ff4e235c4c231feb3...|[[, produced by a...|\n",
      "+--------------------+--------------------+--------------------+--------------------+--------------------+--------------------+--------------------+\n",
      "only showing top 10 rows\n",
      "\n"
     ]
    }
   ],
   "source": [
    "covid_papers.show(10)"
   ]
  },
  {
   "cell_type": "code",
   "execution_count": 9,
   "metadata": {},
   "outputs": [],
   "source": [
    "from pyspark.sql.functions import udf\n",
    "\n",
    "def text_contact(col):\n",
    "    text = \"\"\n",
    "    for row in col:\n",
    "        text = text + \" \" + row['text']\n",
    "    return text\n",
    "\n",
    "text_contact = udf(text_contact)"
   ]
  },
  {
   "cell_type": "code",
   "execution_count": 10,
   "metadata": {},
   "outputs": [
    {
     "data": {
      "text/plain": [
       "<function __main__.text_contact(col)>"
      ]
     },
     "execution_count": 10,
     "metadata": {},
     "output_type": "execute_result"
    }
   ],
   "source": [
    "text_contact"
   ]
  },
  {
   "cell_type": "code",
   "execution_count": 11,
   "metadata": {},
   "outputs": [],
   "source": [
    "covid_papers = covid_papers.select(covid_papers['Paper_ID'], covid_papers['metadata']['title'], text_contact(covid_papers['abstract']))\n"
   ]
  },
  {
   "cell_type": "code",
   "execution_count": 12,
   "metadata": {},
   "outputs": [
    {
     "name": "stdout",
     "output_type": "stream",
     "text": [
      "+--------------------+--------------------+----------------------+\n",
      "|            Paper_ID|      metadata.title|text_contact(abstract)|\n",
      "+--------------------+--------------------+----------------------+\n",
      "|ff78ee43150a59344...|                    |                      |\n",
      "|ff60baae582612fbf...|Scientific Opinio...|   A review of the ...|\n",
      "|ffec12aa4a9fd44c1...|Humanized Mice fo...|   Live-attenuated ...|\n",
      "|ffdf3927a517dbdb2...|Metallo-aminopept...|   Aminopeptidases ...|\n",
      "|ffae196fecc4da7f1...|Emerging and Reem...|                      |\n",
      "|ff6e7c70571d00234...|Grand Challenges ...|   Synopsis Billion...|\n",
      "|fff4688e7755c8ec7...|Prophylaxis and E...|                      |\n",
      "|ffc93dea5a5f4e6e6...|From Touchdown to...|                      |\n",
      "|ff6c0b549e3f20ec7...|Increased Neurite...|   Extracellular β-...|\n",
      "|ff4e235c4c231feb3...|POTENTIAL DETRIME...|   Lussier, G. 1988...|\n",
      "|ffa07201a988202e9...|CUMULATIVE BIOLOG...|                      |\n",
      "|ffd185ed9dce81cf6...|Health Benefi ts ...|   The Mediterranea...|\n",
      "|ffa807816bc71d168...|Viral Pneumonia a...|                      |\n",
      "|ff5939c10252c289d...|Adenovirus recept...|   Adenoviruses (Ad...|\n",
      "|ffd640ccc48cf505c...|PUBLIC HEALTH REV...|   An infectious di...|\n",
      "|ffe718db1820f27bf...|Replication enhan...|   We provide exper...|\n",
      "|ff59f8566e5916d6f...|Insights From Ana...|   Memory B cells t...|\n",
      "|fffaed7e9353b7df6...|Dengue Virus Glyc...|   In many infectio...|\n",
      "|ffb5207ac32fdcf58...|                    |                      |\n",
      "|ffba5b8973e172b26...|                    |                      |\n",
      "+--------------------+--------------------+----------------------+\n",
      "only showing top 20 rows\n",
      "\n"
     ]
    }
   ],
   "source": [
    "covid_papers.show()"
   ]
  },
  {
   "cell_type": "code",
   "execution_count": 13,
   "metadata": {},
   "outputs": [],
   "source": [
    "covid_papers = covid_papers.withColumnRenamed('metadata.title', 'Title')\\\n",
    "        .withColumnRenamed('text_contact(abstract)', 'Abstract')"
   ]
  },
  {
   "cell_type": "code",
   "execution_count": 14,
   "metadata": {},
   "outputs": [
    {
     "name": "stdout",
     "output_type": "stream",
     "text": [
      "+--------------------+--------------------+--------------------+\n",
      "|            Paper_ID|               Title|            Abstract|\n",
      "+--------------------+--------------------+--------------------+\n",
      "|ff78ee43150a59344...|                    |                    |\n",
      "|ff60baae582612fbf...|Scientific Opinio...| A review of the ...|\n",
      "|ffec12aa4a9fd44c1...|Humanized Mice fo...| Live-attenuated ...|\n",
      "|ffdf3927a517dbdb2...|Metallo-aminopept...| Aminopeptidases ...|\n",
      "|ffae196fecc4da7f1...|Emerging and Reem...|                    |\n",
      "|ff6e7c70571d00234...|Grand Challenges ...| Synopsis Billion...|\n",
      "|fff4688e7755c8ec7...|Prophylaxis and E...|                    |\n",
      "|ffc93dea5a5f4e6e6...|From Touchdown to...|                    |\n",
      "|ff6c0b549e3f20ec7...|Increased Neurite...| Extracellular β-...|\n",
      "|ff4e235c4c231feb3...|POTENTIAL DETRIME...| Lussier, G. 1988...|\n",
      "+--------------------+--------------------+--------------------+\n",
      "only showing top 10 rows\n",
      "\n"
     ]
    }
   ],
   "source": [
    "covid_papers.show(10)"
   ]
  },
  {
   "cell_type": "code",
   "execution_count": 15,
   "metadata": {},
   "outputs": [
    {
     "name": "stdout",
     "output_type": "stream",
     "text": [
      "+--------+-----+--------+\n",
      "|Paper_ID|Title|Abstract|\n",
      "+--------+-----+--------+\n",
      "|       0|   27|      62|\n",
      "+--------+-----+--------+\n",
      "\n"
     ]
    }
   ],
   "source": [
    "from pyspark.sql.functions import isnan, when, count, col\n",
    "\n",
    "covid_papers.select([count(when(col(column) == \"\", column)).alias(column) for column in covid_papers.columns]).show()"
   ]
  },
  {
   "cell_type": "code",
   "execution_count": 16,
   "metadata": {},
   "outputs": [
    {
     "data": {
      "text/plain": [
       "189"
      ]
     },
     "execution_count": 16,
     "metadata": {},
     "output_type": "execute_result"
    }
   ],
   "source": [
    "covid_papers.count()"
   ]
  },
  {
   "cell_type": "code",
   "execution_count": 17,
   "metadata": {},
   "outputs": [
    {
     "data": {
      "text/plain": [
       "124"
      ]
     },
     "execution_count": 17,
     "metadata": {},
     "output_type": "execute_result"
    }
   ],
   "source": [
    "covid_papers.filter(\"Title != '' and Abstract != ''\"  ).count()\n"
   ]
  },
  {
   "cell_type": "code",
   "execution_count": 18,
   "metadata": {},
   "outputs": [],
   "source": [
    "covid_papers_meta = covid_papers.join(meta_data, covid_papers['Paper_ID'] == meta_data['sha'], how='left_outer')\\\n",
    "            .select(covid_papers['Paper_ID'], covid_papers['title'], meta_data['publish_time'],\\\n",
    "                   meta_data['authors'], meta_data['journal'])"
   ]
  },
  {
   "cell_type": "code",
   "execution_count": 19,
   "metadata": {},
   "outputs": [],
   "source": [
    "from pyspark.sql.functions import year, month, to_date\n",
    "covid_papers_meta = covid_papers_meta.withColumn(\"publish_Year\", year(to_date(\"publish_time\")))"
   ]
  },
  {
   "cell_type": "code",
   "execution_count": 20,
   "metadata": {},
   "outputs": [
    {
     "name": "stdout",
     "output_type": "stream",
     "text": [
      "+--------------------+--------------------+------------+--------------------+--------------------+------------+\n",
      "|            Paper_ID|               title|publish_time|             authors|             journal|publish_Year|\n",
      "+--------------------+--------------------+------------+--------------------+--------------------+------------+\n",
      "|ffdd84a06e470242c...|SEQUENCE O F MURI...|  2008-05-12|KOGA, M.; WEGE, H...|Neuropathol Appl ...|        2008|\n",
      "|ffef8194e52de95fe...|Virology Journal ...|  2009-10-10|Ngandu, Nobubelo ...|             Virol J|        2009|\n",
      "|ff6c61a7a6a4fd518...|Optimal COVID-19 ...|        null|                null|                null|        null|\n",
      "|ff7d49ac4008f60ef...|                    |  2010-10-31|Cook, Alex R.; Ch...|    Emerg Infect Dis|        2010|\n",
      "|fff69e4894df7b413...|INTERACTION BETWE...|        2006|Pöhlmann, Stefan;...|     The Nidoviruses|        2006|\n",
      "+--------------------+--------------------+------------+--------------------+--------------------+------------+\n",
      "only showing top 5 rows\n",
      "\n"
     ]
    }
   ],
   "source": [
    "covid_papers_meta.show(5)"
   ]
  },
  {
   "cell_type": "code",
   "execution_count": 21,
   "metadata": {},
   "outputs": [],
   "source": [
    "#!pip3 install langdetect \n"
   ]
  },
  {
   "cell_type": "code",
   "execution_count": 22,
   "metadata": {},
   "outputs": [],
   "source": [
    "from langdetect import detect\n",
    "def detect_lang(txt):\n",
    "    try:\n",
    "        return detect(txt)\n",
    "    except:\n",
    "        return None\n",
    "udf_detect_lang = udf(detect_lang)"
   ]
  },
  {
   "cell_type": "code",
   "execution_count": 23,
   "metadata": {},
   "outputs": [],
   "source": [
    "covid_papers_meta = covid_papers_meta.withColumn('Language', udf_detect_lang(covid_papers_meta['title']))"
   ]
  },
  {
   "cell_type": "code",
   "execution_count": 24,
   "metadata": {},
   "outputs": [
    {
     "data": {
      "text/plain": [
       "9"
      ]
     },
     "execution_count": 24,
     "metadata": {},
     "output_type": "execute_result"
    }
   ],
   "source": [
    "# we think there is a prob with this result due to choosing title instead of text itself from abstract or body\n",
    "\n",
    "# if we have time we will get back to this \n",
    "covid_papers_meta.select(\"*\").where(\"Language<>'en'\").count()"
   ]
  },
  {
   "cell_type": "code",
   "execution_count": 25,
   "metadata": {},
   "outputs": [
    {
     "name": "stdout",
     "output_type": "stream",
     "text": [
      "+--------------------+--------------------+--------------------+--------------------+--------------------+------------+--------+\n",
      "|            Paper_ID|               title|        publish_time|             authors|             journal|publish_Year|Language|\n",
      "+--------------------+--------------------+--------------------+--------------------+--------------------+------------+--------+\n",
      "|ffdd84a06e470242c...|SEQUENCE O F MURI...|          2008-05-12|KOGA, M.; WEGE, H...|Neuropathol Appl ...|        2008|      en|\n",
      "|ffef8194e52de95fe...|Virology Journal ...|          2009-10-10|Ngandu, Nobubelo ...|             Virol J|        2009|      en|\n",
      "|ff6c61a7a6a4fd518...|Optimal COVID-19 ...|                null|                null|                null|        null|      es|\n",
      "|ff7d49ac4008f60ef...|                    |          2010-10-31|Cook, Alex R.; Ch...|    Emerg Infect Dis|        2010|    null|\n",
      "|fff69e4894df7b413...|INTERACTION BETWE...|                2006|Pöhlmann, Stefan;...|     The Nidoviruses|        2006|      en|\n",
      "|ff5939c10252c289d...|Adenovirus recept...|                null|                null|                null|        null|      en|\n",
      "|ffbd7555a33770623...|Title: Estimation...| 95% CI: 380-5320...| and far higher t...| it is likely tha...|        null|      en|\n",
      "|ff7f8110edb69b52b...|Asthma and Immuno...|          2020-05-05|Nowak-Wegrzyn, A....|Ann Allergy Asthm...|        2020|      en|\n",
      "|ffc89f2bd7f513dae...|A SARS-CoV-SPECIF...|                2006|Pewe, Lecia; Zhou...|     The Nidoviruses|        2006|      pt|\n",
      "|ffe356ef09934d0a9...|Forensic interpre...|          2014-10-07|Velsko, Stephan P...|     Electrophoresis|        2014|      en|\n",
      "|ffa96106b3248391e...|Bacterial and Par...|          2009-09-02|Harlin, Roger; Wa...|Vet Clin North Am...|        2009|      en|\n",
      "|ff365ebbc0fc55476...|   Article focus Hip|          2016-09-09|Pahuta, M.; Smold...|      Bone Joint Res|        2016|      ro|\n",
      "|ffd791c34aa1431d8...|                    |                null|                null|                null|        null|    null|\n",
      "|ff59f8566e5916d6f...|Insights From Ana...|          2019-01-15|Shah, Hemangi B.;...|       Front Immunol|        2019|      en|\n",
      "|ffdf3927a517dbdb2...|Metallo-aminopept...|          2010-05-10|Mucha, Artur; Dra...|           Biochimie|        2010|      it|\n",
      "|ff3e96c92e1465c74...|Autophagy and ant...|                null|                null|                null|        null|      en|\n",
      "|ff57ad43fc4e5b2f8...|Replication and p...|          1990-01-31|Hirano, N.; Ono, ...|Journal of Virolo...|        1990|      en|\n",
      "|ff6fb209f096f1d83...|                    |          2019-02-06|Ladner, Jason T.;...|             Nat Med|        2019|    null|\n",
      "|ffcc037270daaf7a3...|immunological Con...|          2017-09-11|Schountz, Tony; B...|       Front Immunol|        2017|      en|\n",
      "|ffec12aa4a9fd44c1...|Humanized Mice fo...|          2020-01-21|O’Connell, Aoife ...|    Vaccines (Basel)|        2020|      en|\n",
      "+--------------------+--------------------+--------------------+--------------------+--------------------+------------+--------+\n",
      "only showing top 20 rows\n",
      "\n"
     ]
    }
   ],
   "source": [
    "covid_papers_meta.show()"
   ]
  },
  {
   "cell_type": "code",
   "execution_count": 26,
   "metadata": {},
   "outputs": [
    {
     "name": "stdout",
     "output_type": "stream",
     "text": [
      "+--------------------+--------------------+--------------------+--------------------+------------+\n",
      "|            Paper_ID|               title|             authors|             journal|publish_Year|\n",
      "+--------------------+--------------------+--------------------+--------------------+------------+\n",
      "|ffdd84a06e470242c...|SEQUENCE O F MURI...|KOGA, M.; WEGE, H...|Neuropathol Appl ...|        2008|\n",
      "|ffef8194e52de95fe...|Virology Journal ...|Ngandu, Nobubelo ...|             Virol J|        2009|\n",
      "+--------------------+--------------------+--------------------+--------------------+------------+\n",
      "only showing top 2 rows\n",
      "\n"
     ]
    }
   ],
   "source": [
    "#Drop the unneeded columns\n",
    "covid_papers_meta = covid_papers_meta.drop('publish_time', 'Language')\n",
    "covid_papers_meta.show(2)"
   ]
  },
  {
   "cell_type": "code",
   "execution_count": 27,
   "metadata": {},
   "outputs": [
    {
     "name": "stdout",
     "output_type": "stream",
     "text": [
      "Count of Null\n",
      "+--------+-----+-------+-------+------------+\n",
      "|Paper_ID|title|authors|journal|publish_Year|\n",
      "+--------+-----+-------+-------+------------+\n",
      "|       0|    0|     47|     45|          43|\n",
      "+--------+-----+-------+-------+------------+\n",
      "\n",
      "Count of Empty values\n",
      "+--------+-----+-------+-------+------------+\n",
      "|Paper_ID|title|authors|journal|publish_Year|\n",
      "+--------+-----+-------+-------+------------+\n",
      "|       0|   27|      0|      0|           0|\n",
      "+--------+-----+-------+-------+------------+\n",
      "\n"
     ]
    }
   ],
   "source": [
    "print(\"Count of Null\")\n",
    "covid_papers_meta.select([count(when(isnan(column) | col(column).isNull(), column)).alias(column) for column in covid_papers_meta.columns]).show()\n",
    "print(\"Count of Empty values\")\n",
    "covid_papers_meta.select([count(when(col(column) == \"\", column)).alias(column) for column in covid_papers_meta.columns]).show()"
   ]
  },
  {
   "cell_type": "code",
   "execution_count": 28,
   "metadata": {},
   "outputs": [
    {
     "data": {
      "text/plain": [
       "['Paper_ID', 'title', 'authors', 'journal']"
      ]
     },
     "execution_count": 28,
     "metadata": {},
     "output_type": "execute_result"
    }
   ],
   "source": [
    "category_cols = [item[0] for item in covid_papers_meta.dtypes if item[1].startswith('string')] \n",
    "category_cols"
   ]
  },
  {
   "cell_type": "code",
   "execution_count": 29,
   "metadata": {},
   "outputs": [
    {
     "data": {
      "text/plain": [
       "['title', 'authors', 'journal']"
      ]
     },
     "execution_count": 29,
     "metadata": {},
     "output_type": "execute_result"
    }
   ],
   "source": [
    "\n",
    "category_null_cols = [column for column in category_cols if covid_papers_meta.where(col(column).isNull()| col(column).isin('')).count() > 0]\n",
    "category_null_cols"
   ]
  },
  {
   "cell_type": "code",
   "execution_count": 30,
   "metadata": {},
   "outputs": [],
   "source": [
    "# filling nan values with empty string\n",
    "for column in category_null_cols:\n",
    "    covid_papers_meta = covid_papers_meta.na.fill(\" \")"
   ]
  },
  {
   "cell_type": "code",
   "execution_count": 31,
   "metadata": {},
   "outputs": [
    {
     "data": {
      "text/plain": [
       "['publish_Year']"
      ]
     },
     "execution_count": 31,
     "metadata": {},
     "output_type": "execute_result"
    }
   ],
   "source": [
    "numeric_cols = [item[0] for item in covid_papers_meta.dtypes if item[1].startswith('int') | item[1].startswith('double')] \n",
    "numeric_cols"
   ]
  },
  {
   "cell_type": "code",
   "execution_count": 32,
   "metadata": {},
   "outputs": [
    {
     "data": {
      "text/plain": [
       "['publish_Year']"
      ]
     },
     "execution_count": 32,
     "metadata": {},
     "output_type": "execute_result"
    }
   ],
   "source": [
    "### Now let's find numerical columns with null values\n",
    "num_null_cols = [column for column in numeric_cols if covid_papers_meta.filter(col(column).isNull() | col(column).eqNullSafe(0)).count() > 0]\n",
    "num_null_cols"
   ]
  },
  {
   "cell_type": "code",
   "execution_count": 33,
   "metadata": {},
   "outputs": [],
   "source": [
    "### Now let's fill with 0\n",
    "for column in num_null_cols:\n",
    "    covid_papers_meta = covid_papers_meta.na.fill(0)"
   ]
  },
  {
   "cell_type": "code",
   "execution_count": 36,
   "metadata": {},
   "outputs": [
    {
     "name": "stdout",
     "output_type": "stream",
     "text": [
      "+--------------------+--------------------+--------------------+--------------------+------------+\n",
      "|            Paper_ID|               title|             authors|             journal|publish_Year|\n",
      "+--------------------+--------------------+--------------------+--------------------+------------+\n",
      "|ffdd84a06e470242c...|SEQUENCE O F MURI...|KOGA, M.; WEGE, H...|Neuropathol Appl ...|        2008|\n",
      "|ffef8194e52de95fe...|Virology Journal ...|Ngandu, Nobubelo ...|             Virol J|        2009|\n",
      "|ff6c61a7a6a4fd518...|Optimal COVID-19 ...|                    |                    |           0|\n",
      "|ff7d49ac4008f60ef...|                    |Cook, Alex R.; Ch...|    Emerg Infect Dis|        2010|\n",
      "|fff69e4894df7b413...|INTERACTION BETWE...|Pöhlmann, Stefan;...|     The Nidoviruses|        2006|\n",
      "|ff5939c10252c289d...|Adenovirus recept...|                    |                    |           0|\n",
      "|ffbd7555a33770623...|Title: Estimation...| and far higher t...| it is likely tha...|           0|\n",
      "|ff7f8110edb69b52b...|Asthma and Immuno...|Nowak-Wegrzyn, A....|Ann Allergy Asthm...|        2020|\n",
      "|ffc89f2bd7f513dae...|A SARS-CoV-SPECIF...|Pewe, Lecia; Zhou...|     The Nidoviruses|        2006|\n",
      "|ffe356ef09934d0a9...|Forensic interpre...|Velsko, Stephan P...|     Electrophoresis|        2014|\n",
      "+--------------------+--------------------+--------------------+--------------------+------------+\n",
      "only showing top 10 rows\n",
      "\n"
     ]
    }
   ],
   "source": [
    "covid_papers_meta.show(10)"
   ]
  },
  {
   "cell_type": "code",
   "execution_count": 34,
   "metadata": {},
   "outputs": [
    {
     "data": {
      "text/plain": [
       "DataFrame[Paper_ID: string, title: string, authors: string, journal: string, publish_Year: int]"
      ]
     },
     "execution_count": 34,
     "metadata": {},
     "output_type": "execute_result"
    }
   ],
   "source": [
    "covid_papers_meta.dropDuplicates()"
   ]
  },
  {
   "cell_type": "code",
   "execution_count": 38,
   "metadata": {},
   "outputs": [
    {
     "data": {
      "text/plain": [
       "189"
      ]
     },
     "execution_count": 38,
     "metadata": {},
     "output_type": "execute_result"
    }
   ],
   "source": [
    "covid_papers_meta.count()"
   ]
  },
  {
   "cell_type": "code",
   "execution_count": 35,
   "metadata": {},
   "outputs": [],
   "source": [
    "# Remove any special characters\n",
    "\n",
    "covid_papers_meta = covid_papers_meta.withColumn(\"title\", lower(col('title')))\n",
    "covid_papers_meta = covid_papers_meta.withColumn(\"title\", regexp_replace(\"title\", \"[^a-zA-Z\\\\s]\" , \" \"))\n",
    "covid_papers_meta = covid_papers_meta.withColumn(\"title\", regexp_replace(\"title\", \" +\" , \" \"))\n",
    "covid_papers_meta = covid_papers_meta.withColumn(\"title\", regexp_replace(\"title\", \"^ +\" , \"\"))"
   ]
  },
  {
   "cell_type": "code",
   "execution_count": 40,
   "metadata": {},
   "outputs": [
    {
     "name": "stdout",
     "output_type": "stream",
     "text": [
      "+--------------------+--------------------+--------------------+--------------------+------------+\n",
      "|            Paper_ID|               title|             authors|             journal|publish_Year|\n",
      "+--------------------+--------------------+--------------------+--------------------+------------+\n",
      "|ffdd84a06e470242c...|sequence o f muri...|KOGA, M.; WEGE, H...|Neuropathol Appl ...|        2008|\n",
      "|ffef8194e52de95fe...|virology journal ...|Ngandu, Nobubelo ...|             Virol J|        2009|\n",
      "|ff6c61a7a6a4fd518...|optimal covid epi...|                    |                    |           0|\n",
      "|ff7d49ac4008f60ef...|                    |Cook, Alex R.; Ch...|    Emerg Infect Dis|        2010|\n",
      "|fff69e4894df7b413...|interaction betwe...|Pöhlmann, Stefan;...|     The Nidoviruses|        2006|\n",
      "+--------------------+--------------------+--------------------+--------------------+------------+\n",
      "only showing top 5 rows\n",
      "\n"
     ]
    }
   ],
   "source": [
    "covid_papers_meta.show(5)"
   ]
  },
  {
   "cell_type": "code",
   "execution_count": 36,
   "metadata": {},
   "outputs": [],
   "source": [
    "tokenizer = Tokenizer(inputCol='title', outputCol='title_token')\n",
    "covid_papers_meta = tokenizer.transform(covid_papers_meta).select('*')"
   ]
  },
  {
   "cell_type": "code",
   "execution_count": 42,
   "metadata": {},
   "outputs": [
    {
     "name": "stdout",
     "output_type": "stream",
     "text": [
      "+--------------------+\n",
      "|         title_token|\n",
      "+--------------------+\n",
      "|[sequence, o, f, ...|\n",
      "|[virology, journa...|\n",
      "|[optimal, covid, ...|\n",
      "|                  []|\n",
      "|[interaction, bet...|\n",
      "+--------------------+\n",
      "only showing top 5 rows\n",
      "\n"
     ]
    }
   ],
   "source": [
    "covid_papers_meta.select('title_token').show(5)"
   ]
  },
  {
   "cell_type": "code",
   "execution_count": 37,
   "metadata": {},
   "outputs": [],
   "source": [
    "remove = StopWordsRemover(inputCol='title_token', outputCol='title_clean')\n",
    "covid_papers_meta = remove.transform(covid_papers_meta).select('*')"
   ]
  },
  {
   "cell_type": "code",
   "execution_count": 44,
   "metadata": {},
   "outputs": [
    {
     "name": "stdout",
     "output_type": "stream",
     "text": [
      "+--------------------+\n",
      "|         title_clean|\n",
      "+--------------------+\n",
      "|[sequence, o, f, ...|\n",
      "|[virology, journa...|\n",
      "|[optimal, covid, ...|\n",
      "|                  []|\n",
      "|[interaction, spi...|\n",
      "+--------------------+\n",
      "only showing top 5 rows\n",
      "\n"
     ]
    }
   ],
   "source": [
    "covid_papers_meta.select('title_clean').show(5)"
   ]
  },
  {
   "cell_type": "code",
   "execution_count": 38,
   "metadata": {},
   "outputs": [],
   "source": [
    "remove2 = StopWordsRemover(inputCol='title_clean', outputCol='title_clean_', stopWords = [ 'doi', 'preprint', 'copyright', 'peer', 'reviewed', 'org',\n",
    " 'https', 'et', 'al', 'author', 'figure','rights', 'reserved', 'permission', 'used', 'using',\n",
    " 'biorxiv', 'medrxiv', 'license', 'fig', 'fig.', 'al.', 'Elsevier', 'PMC', 'CZI', 'www'])\n",
    "covid_papers_meta = remove2.transform(covid_papers_meta).select('*')"
   ]
  },
  {
   "cell_type": "code",
   "execution_count": 46,
   "metadata": {},
   "outputs": [
    {
     "name": "stdout",
     "output_type": "stream",
     "text": [
      "+--------------------+\n",
      "|        title_clean_|\n",
      "+--------------------+\n",
      "|[sequence, o, f, ...|\n",
      "|[virology, journa...|\n",
      "|[optimal, covid, ...|\n",
      "|                  []|\n",
      "|[interaction, spi...|\n",
      "+--------------------+\n",
      "only showing top 5 rows\n",
      "\n"
     ]
    }
   ],
   "source": [
    "covid_papers_meta.select( 'title_clean_').show(5)"
   ]
  },
  {
   "cell_type": "code",
   "execution_count": 47,
   "metadata": {},
   "outputs": [],
   "source": [
    "# from pyspark.sql.functions import size\n",
    "# covid_papers_meta = covid_papers_meta.withColumn(\"wordcount\", size(\"words_clean_\"))"
   ]
  },
  {
   "cell_type": "code",
   "execution_count": 39,
   "metadata": {},
   "outputs": [
    {
     "name": "stdout",
     "output_type": "stream",
     "text": [
      "root\n",
      " |-- Paper_ID: string (nullable = false)\n",
      " |-- title: string (nullable = false)\n",
      " |-- authors: string (nullable = false)\n",
      " |-- journal: string (nullable = false)\n",
      " |-- publish_Year: integer (nullable = true)\n",
      " |-- title_token: array (nullable = true)\n",
      " |    |-- element: string (containsNull = true)\n",
      " |-- title_clean: array (nullable = true)\n",
      " |    |-- element: string (containsNull = true)\n",
      " |-- title_clean_: array (nullable = true)\n",
      " |    |-- element: string (containsNull = true)\n",
      "\n"
     ]
    }
   ],
   "source": [
    "covid_papers_meta.printSchema()"
   ]
  },
  {
   "cell_type": "code",
   "execution_count": 40,
   "metadata": {},
   "outputs": [],
   "source": [
    "covid_papers_meta = covid_papers_meta.drop('title_token')"
   ]
  },
  {
   "cell_type": "code",
   "execution_count": 50,
   "metadata": {},
   "outputs": [
    {
     "name": "stdout",
     "output_type": "stream",
     "text": [
      "+--------------------+--------------------+--------------------+--------------------+------------+--------------------+--------------------+\n",
      "|            Paper_ID|               title|             authors|             journal|publish_Year|         title_clean|        title_clean_|\n",
      "+--------------------+--------------------+--------------------+--------------------+------------+--------------------+--------------------+\n",
      "|ffdd84a06e470242c...|sequence o f muri...|KOGA, M.; WEGE, H...|Neuropathol Appl ...|        2008|[sequence, o, f, ...|[sequence, o, f, ...|\n",
      "|ffef8194e52de95fe...|virology journal ...|Ngandu, Nobubelo ...|             Virol J|        2009|[virology, journa...|[virology, journa...|\n",
      "|ff6c61a7a6a4fd518...|optimal covid epi...|                    |                    |           0|[optimal, covid, ...|[optimal, covid, ...|\n",
      "|ff7d49ac4008f60ef...|                    |Cook, Alex R.; Ch...|    Emerg Infect Dis|        2010|                  []|                  []|\n",
      "|fff69e4894df7b413...|interaction betwe...|Pöhlmann, Stefan;...|     The Nidoviruses|        2006|[interaction, spi...|[interaction, spi...|\n",
      "+--------------------+--------------------+--------------------+--------------------+------------+--------------------+--------------------+\n",
      "only showing top 5 rows\n",
      "\n"
     ]
    }
   ],
   "source": [
    "covid_papers_meta.show(5)"
   ]
  },
  {
   "cell_type": "code",
   "execution_count": 41,
   "metadata": {},
   "outputs": [],
   "source": [
    "covid_papers_meta.repartition(12).write.parquet(\"./covid_papers_meta_processed\")\n"
   ]
  },
  {
   "cell_type": "code",
   "execution_count": 4,
   "metadata": {},
   "outputs": [],
   "source": [
    "covid_papers_meta = spark.read\\\n",
    "           .format(\"parquet\")\\\n",
    "           .option(\"header\", \"true\")\\\n",
    "           .load(\"./covid_papers_meta_processed\")"
   ]
  },
  {
   "cell_type": "code",
   "execution_count": 52,
   "metadata": {},
   "outputs": [],
   "source": [
    "\n",
    "# # Learn a mapping from words to Vectors.\n",
    "# word2Vec = Word2Vec(vectorSize=100, minCount=0, inputCol=\"words_clean_custom\", outputCol=\"word2vec_body\")\n",
    "# model = word2Vec.fit(papers_meta)\n",
    "\n",
    "# papers_meta = model.transform(papers_meta)"
   ]
  },
  {
   "cell_type": "code",
   "execution_count": 5,
   "metadata": {},
   "outputs": [],
   "source": [
    "from pyspark.ml.feature import Word2Vec\n",
    "\n",
    "word2Vec = Word2Vec(vectorSize=100, minCount=0, inputCol=\"title_clean_\", outputCol=\"titl_eword2vec\")\n",
    "model = word2Vec.fit(covid_papers_meta)\n",
    "\n",
    "covid_papers_meta = model.transform(covid_papers_meta)"
   ]
  },
  {
   "cell_type": "code",
   "execution_count": 54,
   "metadata": {},
   "outputs": [
    {
     "name": "stdout",
     "output_type": "stream",
     "text": [
      "+--------------------+--------------------+--------------------+--------------------+------------+--------------------+--------------------+--------------------+\n",
      "|            Paper_ID|               title|             authors|             journal|publish_Year|         title_clean|        title_clean_|      titl_eword2vec|\n",
      "+--------------------+--------------------+--------------------+--------------------+------------+--------------------+--------------------+--------------------+\n",
      "|ffdd84a06e470242c...|sequence o f muri...|KOGA, M.; WEGE, H...|Neuropathol Appl ...|        2008|[sequence, o, f, ...|[sequence, o, f, ...|[-8.6179045452312...|\n",
      "|ffef8194e52de95fe...|virology journal ...|Ngandu, Nobubelo ...|             Virol J|        2009|[virology, journa...|[virology, journa...|[-0.0014203501850...|\n",
      "|ff6c61a7a6a4fd518...|optimal covid epi...|                    |                    |           0|[optimal, covid, ...|[optimal, covid, ...|[-4.2925175512209...|\n",
      "|ff7d49ac4008f60ef...|                    |Cook, Alex R.; Ch...|    Emerg Infect Dis|        2010|                  []|                  []|[-0.0038492346648...|\n",
      "|fff69e4894df7b413...|interaction betwe...|Pöhlmann, Stefan;...|     The Nidoviruses|        2006|[interaction, spi...|[interaction, spi...|[1.02162403183885...|\n",
      "+--------------------+--------------------+--------------------+--------------------+------------+--------------------+--------------------+--------------------+\n",
      "only showing top 5 rows\n",
      "\n"
     ]
    }
   ],
   "source": [
    "covid_papers_meta.show(5)"
   ]
  },
  {
   "cell_type": "code",
   "execution_count": 6,
   "metadata": {},
   "outputs": [],
   "source": [
    "covid_papers_meta.repartition(12).write.parquet(\"./Dataset/covid_papers_meta_word2vec\")\n"
   ]
  },
  {
   "cell_type": "code",
   "execution_count": 8,
   "metadata": {},
   "outputs": [],
   "source": [
    "covid_papers_meta = spark.read\\\n",
    "            .format(\"parquet\")\\\n",
    "            .option(\"header\", \"true\")\\\n",
    "            .load(\"./Dataset/covid_papers_meta_word2vec\")"
   ]
  },
  {
   "cell_type": "code",
   "execution_count": 56,
   "metadata": {},
   "outputs": [
    {
     "name": "stdout",
     "output_type": "stream",
     "text": [
      "root\n",
      " |-- Paper_ID: string (nullable = false)\n",
      " |-- title: string (nullable = false)\n",
      " |-- authors: string (nullable = false)\n",
      " |-- journal: string (nullable = false)\n",
      " |-- publish_Year: integer (nullable = true)\n",
      " |-- title_clean: array (nullable = true)\n",
      " |    |-- element: string (containsNull = true)\n",
      " |-- title_clean_: array (nullable = true)\n",
      " |    |-- element: string (containsNull = true)\n",
      " |-- titl_eword2vec: vector (nullable = true)\n",
      "\n"
     ]
    }
   ],
   "source": [
    "covid_papers_meta.printSchema()"
   ]
  },
  {
   "cell_type": "code",
   "execution_count": 9,
   "metadata": {},
   "outputs": [],
   "source": [
    "#Select only the needed columns\n",
    "covid_papers_meta = covid_papers_meta.select('Paper_ID', 'authors', 'journal', 'publish_Year', 'titl_eword2vec')\n"
   ]
  },
  {
   "cell_type": "code",
   "execution_count": 59,
   "metadata": {},
   "outputs": [
    {
     "name": "stdout",
     "output_type": "stream",
     "text": [
      "+--------------------+--------------------+--------------------+------------+--------------------+\n",
      "|            Paper_ID|             authors|             journal|publish_Year|      titl_eword2vec|\n",
      "+--------------------+--------------------+--------------------+------------+--------------------+\n",
      "|ffdd84a06e470242c...|KOGA, M.; WEGE, H...|Neuropathol Appl ...|        2008|[-8.6179045452312...|\n",
      "|ffef8194e52de95fe...|Ngandu, Nobubelo ...|             Virol J|        2009|[-0.0014203501850...|\n",
      "|ff6c61a7a6a4fd518...|                    |                    |           0|[-4.2925175512209...|\n",
      "|ff7d49ac4008f60ef...|Cook, Alex R.; Ch...|    Emerg Infect Dis|        2010|[-0.0038492346648...|\n",
      "|fff69e4894df7b413...|Pöhlmann, Stefan;...|     The Nidoviruses|        2006|[1.02162403183885...|\n",
      "+--------------------+--------------------+--------------------+------------+--------------------+\n",
      "only showing top 5 rows\n",
      "\n"
     ]
    }
   ],
   "source": [
    "covid_papers_meta.show(5)\n"
   ]
  },
  {
   "cell_type": "code",
   "execution_count": 10,
   "metadata": {},
   "outputs": [
    {
     "data": {
      "text/plain": [
       "['authors', 'journal']"
      ]
     },
     "execution_count": 10,
     "metadata": {},
     "output_type": "execute_result"
    }
   ],
   "source": [
    "categorical_cols = [item[0] for item in covid_papers_meta.dtypes if item[1].startswith('string')][1:]\n",
    "categorical_cols"
   ]
  },
  {
   "cell_type": "code",
   "execution_count": 11,
   "metadata": {},
   "outputs": [],
   "source": [
    "indexers = [StringIndexer(\n",
    "    inputCol=column, \n",
    "    outputCol=column + '_index', \n",
    "    handleInvalid='keep') for column in categorical_cols]"
   ]
  },
  {
   "cell_type": "code",
   "execution_count": 12,
   "metadata": {},
   "outputs": [],
   "source": [
    "encoders = [OneHotEncoder(\n",
    "    inputCol=column + '_index', \n",
    "    outputCol= column + '_encoded') for column in categorical_cols]"
   ]
  },
  {
   "cell_type": "code",
   "execution_count": 13,
   "metadata": {},
   "outputs": [],
   "source": [
    "from pyspark.ml import Pipeline\n",
    "\n",
    "pipeline = Pipeline(stages=indexers + encoders)"
   ]
  },
  {
   "cell_type": "code",
   "execution_count": 14,
   "metadata": {},
   "outputs": [],
   "source": [
    "covid_papers_meta_transformed = pipeline.fit(covid_papers_meta).transform(covid_papers_meta)\n"
   ]
  },
  {
   "cell_type": "code",
   "execution_count": 64,
   "metadata": {},
   "outputs": [
    {
     "name": "stdout",
     "output_type": "stream",
     "text": [
      "+--------------------+--------------------+--------------------+------------+--------------------+-------------+-------------+-----------------+----------------+\n",
      "|            Paper_ID|             authors|             journal|publish_Year|      titl_eword2vec|authors_index|journal_index|  authors_encoded| journal_encoded|\n",
      "+--------------------+--------------------+--------------------+------------+--------------------+-------------+-------------+-----------------+----------------+\n",
      "|ffdd84a06e470242c...|KOGA, M.; WEGE, H...|Neuropathol Appl ...|        2008|[-8.6179045452312...|          4.0|         15.0|  (143,[4],[1.0])|(123,[15],[1.0])|\n",
      "|ffef8194e52de95fe...|Ngandu, Nobubelo ...|             Virol J|        2009|[-0.0014203501850...|         29.0|          8.0| (143,[29],[1.0])| (123,[8],[1.0])|\n",
      "|ff6c61a7a6a4fd518...|                    |                    |           0|[-4.2925175512209...|          0.0|          0.0|  (143,[0],[1.0])| (123,[0],[1.0])|\n",
      "|ff7d49ac4008f60ef...|Cook, Alex R.; Ch...|    Emerg Infect Dis|        2010|[-0.0038492346648...|        113.0|          2.0|(143,[113],[1.0])| (123,[2],[1.0])|\n",
      "|fff69e4894df7b413...|Pöhlmann, Stefan;...|     The Nidoviruses|        2006|[1.02162403183885...|        122.0|          7.0|(143,[122],[1.0])| (123,[7],[1.0])|\n",
      "+--------------------+--------------------+--------------------+------------+--------------------+-------------+-------------+-----------------+----------------+\n",
      "only showing top 5 rows\n",
      "\n"
     ]
    }
   ],
   "source": [
    "covid_papers_meta_transformed.show(5)"
   ]
  },
  {
   "cell_type": "code",
   "execution_count": 15,
   "metadata": {},
   "outputs": [],
   "source": [
    "requiredFeatures = ['publish_Year','titl_eword2vec','authors_encoded','journal_encoded']"
   ]
  },
  {
   "cell_type": "code",
   "execution_count": 16,
   "metadata": {},
   "outputs": [],
   "source": [
    "from pyspark.ml.feature import VectorAssembler\n",
    "\n",
    "assembler = VectorAssembler(inputCols=requiredFeatures, outputCol='features')"
   ]
  },
  {
   "cell_type": "code",
   "execution_count": 17,
   "metadata": {},
   "outputs": [],
   "source": [
    "covid_papers_meta_transformed = assembler.transform(covid_papers_meta_transformed)\n"
   ]
  },
  {
   "cell_type": "code",
   "execution_count": 67,
   "metadata": {},
   "outputs": [
    {
     "name": "stdout",
     "output_type": "stream",
     "text": [
      "+--------------------+--------------------+--------------------+------------+--------------------+-------------+-------------+-----------------+----------------+--------------------+\n",
      "|            Paper_ID|             authors|             journal|publish_Year|      titl_eword2vec|authors_index|journal_index|  authors_encoded| journal_encoded|            features|\n",
      "+--------------------+--------------------+--------------------+------------+--------------------+-------------+-------------+-----------------+----------------+--------------------+\n",
      "|ffdd84a06e470242c...|KOGA, M.; WEGE, H...|Neuropathol Appl ...|        2008|[-8.6179045452312...|          4.0|         15.0|  (143,[4],[1.0])|(123,[15],[1.0])|(367,[0,1,2,3,4,5...|\n",
      "|ffef8194e52de95fe...|Ngandu, Nobubelo ...|             Virol J|        2009|[-0.0014203501850...|         29.0|          8.0| (143,[29],[1.0])| (123,[8],[1.0])|(367,[0,1,2,3,4,5...|\n",
      "|ff6c61a7a6a4fd518...|                    |                    |           0|[-4.2925175512209...|          0.0|          0.0|  (143,[0],[1.0])| (123,[0],[1.0])|(367,[1,2,3,4,5,6...|\n",
      "|ff7d49ac4008f60ef...|Cook, Alex R.; Ch...|    Emerg Infect Dis|        2010|[-0.0038492346648...|        113.0|          2.0|(143,[113],[1.0])| (123,[2],[1.0])|(367,[0,1,2,3,4,5...|\n",
      "|fff69e4894df7b413...|Pöhlmann, Stefan;...|     The Nidoviruses|        2006|[1.02162403183885...|        122.0|          7.0|(143,[122],[1.0])| (123,[7],[1.0])|(367,[0,1,2,3,4,5...|\n",
      "+--------------------+--------------------+--------------------+------------+--------------------+-------------+-------------+-----------------+----------------+--------------------+\n",
      "only showing top 5 rows\n",
      "\n"
     ]
    }
   ],
   "source": [
    "covid_papers_meta_transformed.show(5)"
   ]
  },
  {
   "cell_type": "code",
   "execution_count": 18,
   "metadata": {},
   "outputs": [
    {
     "data": {
      "text/plain": [
       "[Row(features=SparseVector(367, {0: 2016.0, 1: 0.0002, 2: -0.0004, 3: 0.0002, 4: 0.0008, 5: 0.0011, 6: 0.0006, 7: -0.0007, 8: 0.0002, 9: 0.0006, 10: -0.0009, 11: 0.0005, 12: -0.0001, 13: 0.0012, 14: 0.0025, 15: 0.0012, 16: -0.0003, 17: -0.0001, 18: -0.0001, 19: 0.0006, 20: 0.0009, 21: -0.0008, 22: -0.0006, 23: -0.0019, 24: 0.0002, 25: -0.0, 26: 0.0011, 27: 0.002, 28: -0.0017, 29: 0.0002, 30: -0.001, 31: -0.0001, 32: 0.0017, 33: 0.0013, 34: 0.0002, 35: -0.0005, 36: -0.0001, 37: 0.0003, 38: 0.0003, 39: 0.0004, 40: -0.0001, 41: 0.0002, 42: -0.0007, 43: -0.0004, 44: 0.0004, 45: 0.0002, 46: 0.0001, 47: 0.0005, 48: 0.0001, 49: -0.0012, 50: -0.001, 51: -0.0009, 52: -0.0002, 53: -0.0007, 54: 0.0013, 55: -0.0003, 56: 0.0007, 57: 0.0001, 58: 0.0011, 59: 0.0006, 60: 0.0004, 61: 0.0001, 62: -0.0009, 63: 0.0, 64: 0.0008, 65: 0.0012, 66: 0.0, 67: -0.0003, 68: -0.0012, 69: 0.001, 70: 0.0, 71: -0.0027, 72: 0.0007, 73: 0.0015, 74: 0.0003, 75: -0.0003, 76: -0.0006, 77: 0.0013, 78: -0.0012, 79: 0.0004, 80: -0.0005, 81: -0.0008, 82: -0.0008, 83: 0.0018, 84: 0.0015, 85: -0.0024, 86: -0.0018, 87: 0.0008, 88: 0.0011, 89: -0.0012, 90: -0.0016, 91: 0.0011, 92: 0.0018, 93: -0.0002, 94: 0.0017, 95: 0.0001, 96: -0.0009, 97: 0.0001, 98: -0.0002, 99: -0.0006, 100: -0.0002, 190: 1.0, 310: 1.0}))]"
      ]
     },
     "execution_count": 18,
     "metadata": {},
     "output_type": "execute_result"
    }
   ],
   "source": [
    "covid_papers_meta_transformed.select('features').take(1)"
   ]
  },
  {
   "cell_type": "code",
   "execution_count": 70,
   "metadata": {},
   "outputs": [
    {
     "name": "stdout",
     "output_type": "stream",
     "text": [
      "+--------------------+--------------------+--------------------+------------+--------------------+-------------+-------------+-----------------+----------------+--------------------+\n",
      "|            Paper_ID|             authors|             journal|publish_Year|      titl_eword2vec|authors_index|journal_index|  authors_encoded| journal_encoded|            features|\n",
      "+--------------------+--------------------+--------------------+------------+--------------------+-------------+-------------+-----------------+----------------+--------------------+\n",
      "|ffdd84a06e470242c...|KOGA, M.; WEGE, H...|Neuropathol Appl ...|        2008|[-8.6179045452312...|          4.0|         15.0|  (143,[4],[1.0])|(123,[15],[1.0])|(367,[0,1,2,3,4,5...|\n",
      "|ffef8194e52de95fe...|Ngandu, Nobubelo ...|             Virol J|        2009|[-0.0014203501850...|         29.0|          8.0| (143,[29],[1.0])| (123,[8],[1.0])|(367,[0,1,2,3,4,5...|\n",
      "|ff6c61a7a6a4fd518...|                    |                    |           0|[-4.2925175512209...|          0.0|          0.0|  (143,[0],[1.0])| (123,[0],[1.0])|(367,[1,2,3,4,5,6...|\n",
      "|ff7d49ac4008f60ef...|Cook, Alex R.; Ch...|    Emerg Infect Dis|        2010|[-0.0038492346648...|        113.0|          2.0|(143,[113],[1.0])| (123,[2],[1.0])|(367,[0,1,2,3,4,5...|\n",
      "|fff69e4894df7b413...|Pöhlmann, Stefan;...|     The Nidoviruses|        2006|[1.02162403183885...|        122.0|          7.0|(143,[122],[1.0])| (123,[7],[1.0])|(367,[0,1,2,3,4,5...|\n",
      "+--------------------+--------------------+--------------------+------------+--------------------+-------------+-------------+-----------------+----------------+--------------------+\n",
      "only showing top 5 rows\n",
      "\n"
     ]
    }
   ],
   "source": [
    "covid_papers_meta_transformed.show(5)"
   ]
  },
  {
   "cell_type": "code",
   "execution_count": null,
   "metadata": {},
   "outputs": [],
   "source": []
  },
  {
   "cell_type": "code",
   "execution_count": null,
   "metadata": {},
   "outputs": [],
   "source": []
  },
  {
   "cell_type": "code",
   "execution_count": 19,
   "metadata": {},
   "outputs": [],
   "source": [
    "from pyspark.ml.feature import PCA\n",
    "from pyspark.ml.linalg import Vectors\n",
    "\n",
    "pca = PCA(k=2, inputCol=\"features\", outputCol=\"features_pca\")\n",
    "model = pca.fit(covid_papers_meta_transformed)\n",
    "covid_papers_meta_transformed = model.transform(covid_papers_meta_transformed)"
   ]
  },
  {
   "cell_type": "code",
   "execution_count": 20,
   "metadata": {},
   "outputs": [
    {
     "data": {
      "text/plain": [
       "DenseVector([1.0, 0.0])"
      ]
     },
     "execution_count": 20,
     "metadata": {},
     "output_type": "execute_result"
    }
   ],
   "source": [
    "model.explainedVariance"
   ]
  },
  {
   "cell_type": "code",
   "execution_count": 74,
   "metadata": {},
   "outputs": [
    {
     "name": "stdout",
     "output_type": "stream",
     "text": [
      "+--------------------+--------------------+--------------------+------------+--------------------+-------------+-------------+-----------------+----------------+--------------------+--------------------+\n",
      "|            Paper_ID|             authors|             journal|publish_Year|      titl_eword2vec|authors_index|journal_index|  authors_encoded| journal_encoded|            features|        features_pca|\n",
      "+--------------------+--------------------+--------------------+------------+--------------------+-------------+-------------+-----------------+----------------+--------------------+--------------------+\n",
      "|ffdd84a06e470242c...|KOGA, M.; WEGE, H...|Neuropathol Appl ...|        2008|[-8.6179045452312...|          4.0|         15.0|  (143,[4],[1.0])|(123,[15],[1.0])|(367,[0,1,2,3,4,5...|[-2007.9995828662...|\n",
      "|ffef8194e52de95fe...|Ngandu, Nobubelo ...|             Virol J|        2009|[-0.0014203501850...|         29.0|          8.0| (143,[29],[1.0])| (123,[8],[1.0])|(367,[0,1,2,3,4,5...|[-2008.9995861048...|\n",
      "|ff6c61a7a6a4fd518...|                    |                    |           0|[-4.2925175512209...|          0.0|          0.0|  (143,[0],[1.0])| (123,[0],[1.0])|(367,[1,2,3,4,5,6...|[9.13787462841871...|\n",
      "|ff7d49ac4008f60ef...|Cook, Alex R.; Ch...|    Emerg Infect Dis|        2010|[-0.0038492346648...|        113.0|          2.0|(143,[113],[1.0])| (123,[2],[1.0])|(367,[0,1,2,3,4,5...|[-2009.9995926489...|\n",
      "|fff69e4894df7b413...|Pöhlmann, Stefan;...|     The Nidoviruses|        2006|[1.02162403183885...|        122.0|          7.0|(143,[122],[1.0])| (123,[7],[1.0])|(367,[0,1,2,3,4,5...|[-2005.9995866139...|\n",
      "+--------------------+--------------------+--------------------+------------+--------------------+-------------+-------------+-----------------+----------------+--------------------+--------------------+\n",
      "only showing top 5 rows\n",
      "\n"
     ]
    }
   ],
   "source": [
    "covid_papers_meta_transformed.show(5)"
   ]
  },
  {
   "cell_type": "code",
   "execution_count": 21,
   "metadata": {},
   "outputs": [],
   "source": [
    "covid_papers_meta_transformed.repartition(12).write.parquet(\"./Dataset/covid_papers_meta_transformed\")"
   ]
  },
  {
   "cell_type": "code",
   "execution_count": null,
   "metadata": {},
   "outputs": [],
   "source": [
    "# papers_meta_transformed.repartition(12,'features').write.parquet(\"./Dataset/papersmeta_transformed\")"
   ]
  },
  {
   "cell_type": "code",
   "execution_count": 22,
   "metadata": {},
   "outputs": [],
   "source": [
    "covid_papers_meta_transformed = spark.read\\\n",
    "            .format(\"parquet\")\\\n",
    "            .option(\"header\", \"true\")\\\n",
    "            .load(\"./Dataset/covid_papers_meta_transformed\")"
   ]
  },
  {
   "cell_type": "code",
   "execution_count": 23,
   "metadata": {},
   "outputs": [],
   "source": [
    "from pyspark.ml.clustering import KMeans\n",
    "from pyspark.ml.evaluation import ClusteringEvaluator\n",
    "\n",
    "# Calculate cost and plot\n",
    "import numpy as np\n",
    "import pandas as pd \n",
    "\n",
    "cost = np.zeros(15)\n",
    "silhouette = np.zeros(15)\n",
    "\n",
    "for k in range(2,15):\n",
    "    kmeans = KMeans().setK(k).setSeed(1).setFeaturesCol('features_pca')\n",
    "    model = kmeans.fit(covid_papers_meta_transformed)\n",
    "    cost[k] = model.computeCost(covid_papers_meta_transformed)\n",
    "    clusterdData = model.transform(covid_papers_meta_transformed)\n",
    "    evaluator = ClusteringEvaluator()\n",
    "    silhouette[k] = evaluator.evaluate(clusterdData)\n",
    "\n",
    "# Plot the cost\n",
    "df_eval = pd.DataFrame(np.array([cost[2:].tolist(),silhouette[2:].tolist()])).transpose()\n",
    "df_eval.columns = [\"cost\", \"silhouette_score\"]\n",
    "new_col = [2,3,4,5,6,7,8,9,10,11,12,13,14]\n",
    "df_eval.insert(0, 'cluster', new_col)"
   ]
  },
  {
   "cell_type": "code",
   "execution_count": 24,
   "metadata": {},
   "outputs": [
    {
     "data": {
      "text/plain": [
       "<matplotlib.axes._subplots.AxesSubplot at 0x7f370d0a52e8>"
      ]
     },
     "execution_count": 24,
     "metadata": {},
     "output_type": "execute_result"
    }
   ],
   "source": [
    "import seaborn as sns\n",
    "import matplotlib.pyplot as plt\n",
    "sns.set_style(\"whitegrid\")\n",
    "fig = plt.figure(figsize=(40,10))\n",
    "ax1 = fig.add_subplot(1, 2, 1)\n",
    "ax1.set(xticks=range(2,15))\n",
    "ax2 = fig.add_subplot(1, 2, 2)\n",
    "ax2.set(xticks=range(2,15))\n",
    "sns.lineplot(x='cluster', y='cost', data=df_eval, ax=ax1)\n",
    "sns.lineplot(x='cluster', y='silhouette_score', data=df_eval, ax=ax2)"
   ]
  },
  {
   "cell_type": "code",
   "execution_count": 25,
   "metadata": {},
   "outputs": [
    {
     "data": {
      "text/html": [
       "<div>\n",
       "<style scoped>\n",
       "    .dataframe tbody tr th:only-of-type {\n",
       "        vertical-align: middle;\n",
       "    }\n",
       "\n",
       "    .dataframe tbody tr th {\n",
       "        vertical-align: top;\n",
       "    }\n",
       "\n",
       "    .dataframe thead th {\n",
       "        text-align: right;\n",
       "    }\n",
       "</style>\n",
       "<table border=\"1\" class=\"dataframe\">\n",
       "  <thead>\n",
       "    <tr style=\"text-align: right;\">\n",
       "      <th></th>\n",
       "      <th>cluster</th>\n",
       "      <th>cost</th>\n",
       "      <th>silhouette_score</th>\n",
       "    </tr>\n",
       "  </thead>\n",
       "  <tbody>\n",
       "    <tr>\n",
       "      <th>0</th>\n",
       "      <td>2</td>\n",
       "      <td>8224.246654</td>\n",
       "      <td>0.999977</td>\n",
       "    </tr>\n",
       "    <tr>\n",
       "      <th>1</th>\n",
       "      <td>3</td>\n",
       "      <td>3294.114780</td>\n",
       "      <td>0.810664</td>\n",
       "    </tr>\n",
       "    <tr>\n",
       "      <th>2</th>\n",
       "      <td>4</td>\n",
       "      <td>1387.607632</td>\n",
       "      <td>0.788133</td>\n",
       "    </tr>\n",
       "    <tr>\n",
       "      <th>3</th>\n",
       "      <td>5</td>\n",
       "      <td>709.312280</td>\n",
       "      <td>0.776285</td>\n",
       "    </tr>\n",
       "    <tr>\n",
       "      <th>4</th>\n",
       "      <td>6</td>\n",
       "      <td>461.458520</td>\n",
       "      <td>0.724280</td>\n",
       "    </tr>\n",
       "    <tr>\n",
       "      <th>5</th>\n",
       "      <td>7</td>\n",
       "      <td>394.344251</td>\n",
       "      <td>0.716439</td>\n",
       "    </tr>\n",
       "    <tr>\n",
       "      <th>6</th>\n",
       "      <td>8</td>\n",
       "      <td>379.412789</td>\n",
       "      <td>0.709574</td>\n",
       "    </tr>\n",
       "    <tr>\n",
       "      <th>7</th>\n",
       "      <td>9</td>\n",
       "      <td>216.786511</td>\n",
       "      <td>0.688536</td>\n",
       "    </tr>\n",
       "    <tr>\n",
       "      <th>8</th>\n",
       "      <td>10</td>\n",
       "      <td>201.855049</td>\n",
       "      <td>0.682481</td>\n",
       "    </tr>\n",
       "    <tr>\n",
       "      <th>9</th>\n",
       "      <td>11</td>\n",
       "      <td>154.502926</td>\n",
       "      <td>0.634406</td>\n",
       "    </tr>\n",
       "    <tr>\n",
       "      <th>10</th>\n",
       "      <td>12</td>\n",
       "      <td>149.955282</td>\n",
       "      <td>0.623803</td>\n",
       "    </tr>\n",
       "    <tr>\n",
       "      <th>11</th>\n",
       "      <td>13</td>\n",
       "      <td>148.455273</td>\n",
       "      <td>0.619361</td>\n",
       "    </tr>\n",
       "    <tr>\n",
       "      <th>12</th>\n",
       "      <td>14</td>\n",
       "      <td>147.955254</td>\n",
       "      <td>0.627959</td>\n",
       "    </tr>\n",
       "  </tbody>\n",
       "</table>\n",
       "</div>"
      ],
      "text/plain": [
       "    cluster         cost  silhouette_score\n",
       "0         2  8224.246654          0.999977\n",
       "1         3  3294.114780          0.810664\n",
       "2         4  1387.607632          0.788133\n",
       "3         5   709.312280          0.776285\n",
       "4         6   461.458520          0.724280\n",
       "5         7   394.344251          0.716439\n",
       "6         8   379.412789          0.709574\n",
       "7         9   216.786511          0.688536\n",
       "8        10   201.855049          0.682481\n",
       "9        11   154.502926          0.634406\n",
       "10       12   149.955282          0.623803\n",
       "11       13   148.455273          0.619361\n",
       "12       14   147.955254          0.627959"
      ]
     },
     "execution_count": 25,
     "metadata": {},
     "output_type": "execute_result"
    }
   ],
   "source": [
    "df_eval"
   ]
  },
  {
   "cell_type": "code",
   "execution_count": 8,
   "metadata": {},
   "outputs": [],
   "source": [
    "kmeans = KMeans().setK(4).setFeaturesCol('features_pca')\n",
    "model = kmeans.fit(covid_papers_meta_transformed)\n",
    "clusterdData = model.transform(covid_papers_meta_transformed)"
   ]
  },
  {
   "cell_type": "code",
   "execution_count": null,
   "metadata": {},
   "outputs": [],
   "source": []
  },
  {
   "cell_type": "code",
   "execution_count": 9,
   "metadata": {},
   "outputs": [
    {
     "name": "stdout",
     "output_type": "stream",
     "text": [
      "+--------------------+--------------------+--------------------+--------------------+--------------------+---------+------------+-------------+--------------------+--------------------+-------------+-------------+----------------+----------------+--------------------+--------------------+----------+\n",
      "|            Paper_ID|               title|         title_clean|             authors|             journal|wordcount|publish_Year|publish_Month|       word2vec_body|      word2vec_title|authors_index|journal_index| authors_encoded| journal_encoded|            features|        features_pca|prediction|\n",
      "+--------------------+--------------------+--------------------+--------------------+--------------------+---------+------------+-------------+--------------------+--------------------+-------------+-------------+----------------+----------------+--------------------+--------------------+----------+\n",
      "|ff56926b9a45fe14f...|intracellular syn...|[intracellular, s...|Dea, S.; Garzon, ...|          Arch Virol|     2468|        1989|            1|[-0.0746245203466...|[-5.0316562555963...|         98.0|          5.0|(143,[98],[1.0])| (123,[5],[1.0])|(469,[0,1,2,3,4,5...|[-2374.7162893911...|         3|\n",
      "|ffcc037270daaf7a3...|immunological con...|[immunological, c...|Schountz, Tony; B...|       Front Immunol|     2668|        2017|            9|[-0.0487486425616...|[-7.2921003447845...|         28.0|          3.0|(143,[28],[1.0])| (123,[3],[1.0])|(469,[0,1,2,3,4,5...|[-2573.2301355937...|         3|\n",
      "|ff9398e9978220ab5...|novel inflammator...|[novel, inflammat...|                    |                    |     2023|           0|            0|[-0.0784870114657...|[4.47171778692531...|          0.0|          0.0| (143,[0],[1.0])| (123,[0],[1.0])|(469,[0,3,4,5,6,7...|[-2020.8948801963...|         3|\n",
      "|ffbd51670f3a5dcf4...|interrupting covi...|[interrupting, co...|Yen, Muh-Yong; Sc...|J Microbiol Immun...|      754|        2020|            3|[-0.0336948618867...|[-9.5932100912950...|         13.0|         98.0|(143,[13],[1.0])|(123,[98],[1.0])|(469,[0,1,2,3,4,5...|[-661.08579337076...|         0|\n",
      "|ff27234c209825095...|title modeling co...|[title, modeling,...|                    |                    |     1445|           0|            0|[0.01236850148414...|[-8.8799935786352...|          0.0|          0.0| (143,[0],[1.0])| (123,[0],[1.0])|(469,[0,3,4,5,6,7...|[-1443.4963560618...|         0|\n",
      "+--------------------+--------------------+--------------------+--------------------+--------------------+---------+------------+-------------+--------------------+--------------------+-------------+-------------+----------------+----------------+--------------------+--------------------+----------+\n",
      "only showing top 5 rows\n",
      "\n"
     ]
    }
   ],
   "source": [
    "paper_titles_df = spark.read\\\n",
    "            .format(\"parquet\")\\\n",
    "            .option(\"header\", \"true\")\\\n",
    "            .load(\"./Dataset/covid_papers_meta_word2vec\").select('Paper_ID', 'title', 'title_clean_')\n",
    "clusterdData = paper_titles_df.join(clusterdData, on=['Paper_ID'], how='inner')\n",
    "clusterdData.show(5)"
   ]
  },
  {
   "cell_type": "code",
   "execution_count": 10,
   "metadata": {},
   "outputs": [],
   "source": [
    "from pyspark.sql.functions import udf, col\n",
    "df_recommender = clusterdData.select('title', 'title_clean', col('prediction').alias('cluster'))\n",
    "from pyspark.ml.feature import HashingTF, IDF\n",
    "hashingTF = HashingTF(inputCol=\"title_clean\", outputCol=\"tf\")\n",
    "tf = hashingTF.transform(df_recommender)\n",
    "\n",
    "idf = IDF(inputCol=\"tf\", outputCol=\"idf_feature\").fit(tf)\n",
    "tfidf = idf.transform(tf)"
   ]
  },
  {
   "cell_type": "code",
   "execution_count": 11,
   "metadata": {},
   "outputs": [],
   "source": [
    "from pyspark.ml.feature import Normalizer\n",
    "normalizer = Normalizer(inputCol=\"idf_feature\", outputCol=\"norm\")\n",
    "data = normalizer.transform(tfidf)"
   ]
  },
  {
   "cell_type": "code",
   "execution_count": 12,
   "metadata": {},
   "outputs": [
    {
     "data": {
      "text/plain": [
       "[Row(title='effect of porcine circovirus type a or b on infection kinetics and pathogenicity of two genetically divergent strains of porcine reproductive and respiratory syndrome virus in the conventional pig model', title_clean=['effect', 'porcine', 'circovirus', 'type', 'b', 'infection', 'kinetics', 'pathogenicity', 'two', 'genetically', 'divergent', 'strains', 'porcine', 'reproductive', 'respiratory', 'syndrome', 'virus', 'conventional', 'pig', 'model'], cluster=2, tf=SparseVector(262144, {3435: 1.0, 15664: 1.0, 22808: 1.0, 30913: 1.0, 60319: 1.0, 72317: 1.0, 86845: 1.0, 90586: 1.0, 92225: 1.0, 129645: 1.0, 135838: 1.0, 167455: 1.0, 177959: 1.0, 180249: 1.0, 185155: 1.0, 215686: 1.0, 218844: 1.0, 248011: 2.0, 260027: 1.0}), idf_feature=SparseVector(262144, {3435: 4.5539, 15664: 4.1484, 22808: 4.5539, 30913: 3.4553, 60319: 2.539, 72317: 4.1484, 86845: 4.1484, 90586: 2.3026, 92225: 3.3011, 129645: 3.0498, 135838: 4.5539, 167455: 3.6376, 177959: 4.1484, 180249: 3.6376, 185155: 2.069, 215686: 3.8607, 218844: 4.5539, 248011: 6.3352, 260027: 4.1484}), norm=SparseVector(262144, {3435: 0.2635, 15664: 0.24, 22808: 0.2635, 30913: 0.1999, 60319: 0.1469, 72317: 0.24, 86845: 0.24, 90586: 0.1332, 92225: 0.191, 129645: 0.1765, 135838: 0.2635, 167455: 0.2105, 177959: 0.24, 180249: 0.2105, 185155: 0.1197, 215686: 0.2234, 218844: 0.2635, 248011: 0.3666, 260027: 0.24}))]"
      ]
     },
     "execution_count": 12,
     "metadata": {},
     "output_type": "execute_result"
    }
   ],
   "source": [
    "data.take(1)"
   ]
  },
  {
   "cell_type": "code",
   "execution_count": 13,
   "metadata": {},
   "outputs": [],
   "source": [
    "from pyspark.sql.types import DoubleType\n",
    "\n",
    "dot_udf = udf(lambda x,y: float(x.dot(y)), DoubleType())\n",
    "\n",
    "def recommendPaper(paper_title,N, data=data):\n",
    "    target_paper = data.filter(data['title'] == paper_title)\n",
    "    input_cluster = target_paper.select('cluster').collect()[0].cluster\n",
    "    data = data.filter(data['cluster'] == input_cluster)\n",
    "    recommendations = target_paper.alias(\"tearget_paper\").crossJoin(data.alias(\"right\"))\\\n",
    "        .select(col(\"tearget_paper.title\").alias(\"target_title\"), \n",
    "            col(\"right.title\").alias(\"recommended_title\"), \n",
    "            dot_udf(\"tearget_paper.norm\", \"right.norm\").alias(\"dot\"))\\\n",
    "        .sort(col(\"dot\").desc())\\\n",
    "        .limit(N+1)\n",
    "    return {reccomendation.recommended_title:reccomendation.dot for reccomendation in recommendations.collect()[1:]}"
   ]
  },
  {
   "cell_type": "code",
   "execution_count": 14,
   "metadata": {},
   "outputs": [
    {
     "data": {
      "text/plain": [
       "{'interleukin induction in vitro in mouse brain endothelial cells and astrocytes by exposure to mouse hepatitis virus mhv jhm ': 0.07681728881364465,\n",
       " 'novel coronavirus epidemic': 0.09311463265696489}"
      ]
     },
     "execution_count": 14,
     "metadata": {},
     "output_type": "execute_result"
    }
   ],
   "source": [
    "recommendPaper('sequence o f murine coronavirus jhm induced neuropathological changes i n rats',2)\n"
   ]
  },
  {
   "cell_type": "code",
   "execution_count": null,
   "metadata": {},
   "outputs": [],
   "source": []
  }
 ],
 "metadata": {
  "kernelspec": {
   "display_name": "Python 3",
   "language": "python",
   "name": "python3"
  },
  "language_info": {
   "codemirror_mode": {
    "name": "ipython",
    "version": 3
   },
   "file_extension": ".py",
   "mimetype": "text/x-python",
   "name": "python",
   "nbconvert_exporter": "python",
   "pygments_lexer": "ipython3",
   "version": "3.5.3"
  }
 },
 "nbformat": 4,
 "nbformat_minor": 4
}
